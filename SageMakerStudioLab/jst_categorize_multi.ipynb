{
  "cells": [
    {
      "cell_type": "markdown",
      "metadata": {
        "colab_type": "text",
        "id": "view-in-github"
      },
      "source": [
        "<a href=\"https://colab.research.google.com/github/yukinaga/bert_nlp/blob/main/section_5/01_news_classification.ipynb\" target=\"_parent\"><img src=\"https://colab.research.google.com/assets/colab-badge.svg\" alt=\"Open In Colab\"/></a>"
      ]
    },
    {
      "cell_type": "markdown",
      "metadata": {
        "id": "vrgegdDZjf8E"
      },
      "source": [
        "# 学術分野の分類（複数）\n",
        "## jst_categorize_multi.ipynb\n",
        "kakenhi_fine_tuning.ipynbでファインチューニングにより作成したモデルを用いて、新たな複数の学術文書（JSTやAMEDを含めた科研費に限らない）を11の大区分に分類するプログラム。  "
      ]
    },
    {
      "cell_type": "markdown",
      "metadata": {
        "id": "m6moZnLFkFwr"
      },
      "source": [
        "### ライブラリのインストール\n",
        "SageMakerでは初回だけで良い（Google colaboratoryでは毎回）  \n",
        "ライブラリTransformers、およびnlpをインストールします。  "
      ]
    },
    {
      "cell_type": "code",
      "execution_count": null,
      "metadata": {},
      "outputs": [],
      "source": [
        "# pipのアップデート（たまに走らせても良いかも）\n",
        "!pip list\n",
        "!python -m pip install --upgrade pip"
      ]
    },
    {
      "cell_type": "code",
      "execution_count": null,
      "metadata": {
        "id": "7qg6t5nnBjqs"
      },
      "outputs": [],
      "source": [
        "# ライブラリのインストール\n",
        "!pip install torch\n",
        "!pip install transformers\n",
        "!pip install nlp\n",
        "!pip install datasets\n",
        "!pip install fugashi\n",
        "!pip install ipadic"
      ]
    },
    {
      "cell_type": "markdown",
      "metadata": {
        "id": "KcHOX9LyZc2g"
      },
      "source": [
        "### Google ドライブとの連携  \n",
        "以下のコードを実行し、認証コードを使用してGoogle ドライブをマウントします。"
      ]
    },
    {
      "cell_type": "code",
      "execution_count": null,
      "metadata": {
        "id": "7h7BA67Ed5wT"
      },
      "outputs": [],
      "source": [
        "# SageMakerでは不要\n",
        "# from google.colab import drive\n",
        "# drive.mount(\"/content/drive/\")"
      ]
    },
    {
      "cell_type": "markdown",
      "metadata": {},
      "source": [
        "## 複数の学術文書を分類\n",
        "学習済み（ファインチューニング済み）のモデルを読み込み、複数の学術文書（実際には科研費概要テキスト）を分類する"
      ]
    },
    {
      "cell_type": "markdown",
      "metadata": {
        "id": "zZuJCZBK0RJx"
      },
      "source": [
        "### モデルの読み込み\n",
        "保存済みのモデルを読み込みます。"
      ]
    },
    {
      "cell_type": "code",
      "execution_count": null,
      "metadata": {
        "id": "ZWtcQRuP0X45"
      },
      "outputs": [],
      "source": [
        "from transformers import BertForSequenceClassification, BertJapaneseTokenizer\n",
        "\n",
        "#data_path = \"/content/drive/My Drive/bert_nlp/section_5/\" # Google colaboratory\n",
        "data_path = \"./\" # SageMaker\n",
        "\n",
        "loaded_model = BertForSequenceClassification.from_pretrained(data_path) \n",
        "loaded_model.cuda() # GPU対応\n",
        "loaded_tokenizer = BertJapaneseTokenizer.from_pretrained(data_path)\n",
        "\n",
        "print(\"Finish\")"
      ]
    },
    {
      "cell_type": "markdown",
      "metadata": {},
      "source": [
        "### 分類精度検証用の科研費データ読み込み"
      ]
    },
    {
      "cell_type": "code",
      "execution_count": null,
      "metadata": {},
      "outputs": [],
      "source": [
        "import pandas as pd\n",
        "\n",
        "print(\"Start\")\n",
        "\n",
        "open_original_csv = \"RUC共同研究_概要_NoJSPS.csv\" # \n",
        "data_path = \"../data/\"\n",
        "\n",
        "# csvファイルを開く\n",
        "raw_data2 = pd.read_csv(data_path + open_original_csv) # dtype=\"object\"必要？\n",
        "\n",
        "# 読み込んだデータをチェック\n",
        "# raw_data.info()\n",
        "\n",
        "\n",
        "# 今後必要な行だけを取り出し、リネーム\n",
        "kadaiDai2 = raw_data2[[\"ID\", \"FA\", \"description\"]]\n",
        "kadaiDai2['tabDai'] = 0\n",
        "kadaiDai2.columns = [\"ID\", \"FA\", \"Abst\", \"tabDai\"]\n",
        "\n",
        "# kadaiDai2 = kadaiDai2[kadaiDai2['FA'] != 'JSPS']\n",
        "\n",
        "kadaiDai2"
      ]
    },
    {
      "cell_type": "code",
      "execution_count": null,
      "metadata": {},
      "outputs": [],
      "source": [
        "print(\"Start\")\n",
        "\n",
        "# 課題番号の重複を確認。課題番号でソートする。\n",
        "kadaiDai2[\"ID\"].duplicated().any()\n",
        "# kadaiDai2 = kadaiDai2.set_index(\"ID\") # IDをインデックスに設定するコード\n",
        "kadaiDai2 = kadaiDai2.sort_values(\"ID\")\n",
        "\n",
        "# Abstが空欄の課題を削除\n",
        "print(\"オリジナルの課題数： %5d\" % len(kadaiDai2))\n",
        "print(\"概要が空白の課題数： %5d\" % len(kadaiDai2[kadaiDai2[\"Abst\"].isna()]))\n",
        "kadaiDai2 = kadaiDai2.dropna(subset=[\"Abst\"])\n",
        "kadaiDai2(\"空白を除いた課題数： %5d\" % len(kadaiDai2))\n",
        "\n",
        "# Abst中の改行コードを削除\n",
        "kadaiDai2 = kadaiDai2.replace('\\r', '', regex=True)\n",
        "kadaiDai2 = kadaiDai2.replace('\\n', '', regex=True)\n",
        "kadaiDai2 = kadaiDai2.replace('　', '', regex=True) # 全角スペース\n",
        "\n",
        "# Abstが英語のみの課題を削除\n",
        "num_jpen = len(kadaiDai2)\n",
        "kadaiDai2 = kadaiDai2[kadaiDai2[\"Abst\"].str.contains(r'[ぁ-んァ-ン]')]\n",
        "num_jp   = len(kadaiDai2)\n",
        "print(\"日本語＋英語： %5d\" % num_jpen)\n",
        "print(\"英語　　　　： %5d\" % (num_jpen - num_jp))\n",
        "print(\"日本語　　　： %5d\" % num_jp)\n",
        "\n",
        "print(\"Finish\")"
      ]
    },
    {
      "cell_type": "markdown",
      "metadata": {},
      "source": [
        "### 分類精度を複数ファイルで確認\n",
        "３時間程度かかるかも  \n",
        "sagemakerでは40分程度"
      ]
    },
    {
      "cell_type": "code",
      "execution_count": null,
      "metadata": {},
      "outputs": [],
      "source": [
        "import glob  # ファイルの取得に使用\n",
        "import os\n",
        "import torch\n",
        "import numpy as np\n",
        "import pandas as pd\n",
        "from tqdm import tqdm\n",
        "\n",
        "results_binary = 'results'\n",
        "# data_path = \"/content/drive/My Drive/bert_nlp/section_5/\" # Google colaboratory\n",
        "data_path = \"./\" # sagemaker\n",
        "Daikubun = [\"A\", \"B\", \"C\", \"D\", \"E\", \"F\", \"G\", \"H\", \"I\", \"J\", \"K\"]\n",
        "\n",
        "\n",
        "max_length = 512\n",
        "\n",
        "num_data = len(kadaiDai2)\n",
        "print(\"分類する課題数： %d\" % num_data)\n",
        "# num_data = 100\n",
        "num_category = len(Daikubun)\n",
        "# results = torch.zeros(num_data, num_category) # テンソルで変数を用意\n",
        "results = np.zeros((num_data, num_category)) # メモリーが足りないと言われるのでテンソルではなくnumpy arrayにしてみた\n",
        "\n",
        "for m in tqdm(range(num_data)):\n",
        "  words = loaded_tokenizer.tokenize(kadaiDai2[\"Abst\"][m])\n",
        "  word_ids = loaded_tokenizer.convert_tokens_to_ids(words)  # 単語をインデックスに変換\n",
        "  word_tensor = torch.tensor([word_ids[:max_length]])  # テンソルに変換\n",
        "  \n",
        "  # y = loaded_model(word_tensor) # GPU未対応時の予測\n",
        "  y = loaded_model(word_tensor.cuda())  # GPU対応時の予測\n",
        "\n",
        "  # results[m,:] = y[0]\n",
        "  results[m,:] = y[0].cpu().detach().numpy()  # テンソルをCPUにコピーしてからNumPy配列に変換\n",
        "  # results[m,:] = y[0].detach().numpy() # テンソルをnumpy arrayに変換\n",
        "\n",
        "# 変数をとりあえずバイナリで保存\n",
        "np.save(data_path+results_binary, results) # 計算結果をとりあえずバイナリで保存\n",
        "\n",
        "print(results.shape)\n",
        "results"
      ]
    },
    {
      "cell_type": "markdown",
      "metadata": {},
      "source": [
        "### ここで一度保存\n",
        "時間がかかる処理のあとなので、この段階で生成できたデータをファイルに保存"
      ]
    },
    {
      "cell_type": "code",
      "execution_count": null,
      "metadata": {},
      "outputs": [],
      "source": [
        "# コードが不十分\n",
        "data_path = \"./\" # sagemaker\n",
        "Daikubun = [\"A\", \"B\", \"C\", \"D\", \"E\", \"F\", \"G\", \"H\", \"I\", \"J\", \"K\"]\n",
        "\n",
        "results = np.load(data_path+results_binary+\".npy\")\n",
        "\n",
        "# 変数をとりあえずバイナリで保存\n",
        "#np.save(data_path+results_binary, results) # 計算結果をとりあえずバイナリで保存\n",
        "np.savez(data_path+\"categolization_results\", results, kadaiDai2, Daikubun)"
      ]
    },
    {
      "cell_type": "markdown",
      "metadata": {},
      "source": [
        "## 分類結果を表示"
      ]
    },
    {
      "cell_type": "markdown",
      "metadata": {},
      "source": [
        "### 複数ファイル"
      ]
    },
    {
      "cell_type": "code",
      "execution_count": null,
      "metadata": {},
      "outputs": [],
      "source": [
        "import numpy as np\n",
        "import torch\n",
        "import matplotlib.pyplot as plt\n",
        "from sklearn.metrics import confusion_matrix\n",
        "\n",
        "show_num = 0\n",
        "\n",
        "results_binary = \"results\"\n",
        "# data_path = \"/content/drive/My Drive/bert_nlp/section_5/\" # Google colaboratory\n",
        "data_path = \"./\" # sagemaker\n",
        "Daikubun = [\"A\", \"B\", \"C\", \"D\", \"E\", \"F\", \"G\", \"H\", \"I\", \"J\", \"K\"]\n",
        "\n",
        "# num_category = len(Daikubun)\n",
        "\n",
        "results_2 = np.load(data_path+results_binary+\".npy\")\n",
        "\n",
        "\n",
        "\n",
        "#results_3 = np.load(data_path+\"categolization_results.npz\", allow_pickle=True)\n",
        "#results_2 = results_3['arr_0']\n",
        "#kadaiDai2 = results_3['arr_1']\n",
        "#Daikubun  = results_3['arr_2']\n",
        "\n",
        "print(\"ロードした推定確率データのサイズ %d %d\" % results_2.shape)\n",
        "\n",
        "num_category = len(Daikubun)\n",
        "\n",
        "results_2 = torch.tensor(results_2) # Softmax関数を使うためにテンソルに変換\n",
        "m = torch.nn.Softmax(dim=1) # Softmax関数で確率に変換\n",
        "results_2 = m(results_2)\n",
        "results_2 = results_2.numpy() # numpy arrayに戻す\n",
        "\n",
        "\n",
        "# 保存\n",
        "df = pd.DataFrame(results_2)\n",
        "df.to_csv('output.csv', encoding='shift-jis')\n",
        "df"
      ]
    }
  ],
  "metadata": {
    "accelerator": "GPU",
    "colab": {
      "authorship_tag": "ABX9TyM+jlwIO2oHuQ1CSlhpydtp",
      "collapsed_sections": [],
      "include_colab_link": true,
      "name": "01_news_classification.ipynb",
      "provenance": []
    },
    "kernelspec": {
      "display_name": "Python 3",
      "name": "python3"
    }
  },
  "nbformat": 4,
  "nbformat_minor": 0
}
